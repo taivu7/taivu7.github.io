{
  "nbformat": 4,
  "nbformat_minor": 0,
  "metadata": {
    "colab": {
      "provenance": []
    },
    "kernelspec": {
      "name": "python3",
      "display_name": "Python 3"
    },
    "language_info": {
      "name": "python"
    }
  },
  "cells": [
    {
      "cell_type": "code",
      "execution_count": 1,
      "metadata": {
        "colab": {
          "base_uri": "https://localhost:8080/"
        },
        "id": "BfFGzZ2rBB_6",
        "outputId": "5fca2ff6-6364-4e6c-dd8e-2986c96625d4"
      },
      "outputs": [
        {
          "output_type": "stream",
          "name": "stdout",
          "text": [
            "--2025-09-03 09:59:52--  https://raw.githubusercontent.com/karpathy/char-rnn/master/data/tinyshakespeare/input.txt\n",
            "Resolving raw.githubusercontent.com (raw.githubusercontent.com)... 185.199.110.133, 185.199.111.133, 185.199.108.133, ...\n",
            "Connecting to raw.githubusercontent.com (raw.githubusercontent.com)|185.199.110.133|:443... connected.\n",
            "HTTP request sent, awaiting response... 200 OK\n",
            "Length: 1115394 (1.1M) [text/plain]\n",
            "Saving to: ‘input.txt’\n",
            "\n",
            "input.txt           100%[===================>]   1.06M  --.-KB/s    in 0.05s   \n",
            "\n",
            "2025-09-03 09:59:52 (19.7 MB/s) - ‘input.txt’ saved [1115394/1115394]\n",
            "\n"
          ]
        }
      ],
      "source": [
        "# We always start with a dataset to train on. Let's download the tiny shakespeare dataset\n",
        "!wget https://raw.githubusercontent.com/karpathy/char-rnn/master/data/tinyshakespeare/input.txt"
      ]
    },
    {
      "cell_type": "code",
      "source": [
        "with open('input.txt', 'r', encoding='utf-8') as f:\n",
        "  text = f.read()"
      ],
      "metadata": {
        "id": "cv0SvpgCBJ5z"
      },
      "execution_count": 2,
      "outputs": []
    },
    {
      "cell_type": "code",
      "source": [
        "print(f\"Length of dataset: {len(text)}\")"
      ],
      "metadata": {
        "colab": {
          "base_uri": "https://localhost:8080/"
        },
        "id": "TOI1FaSgBdVw",
        "outputId": "b835f65f-b68f-4939-e0ea-b9341457a71c"
      },
      "execution_count": 4,
      "outputs": [
        {
          "output_type": "stream",
          "name": "stdout",
          "text": [
            "Length of dataset: 1115394\n"
          ]
        }
      ]
    },
    {
      "cell_type": "code",
      "source": [
        "print(text[:100])"
      ],
      "metadata": {
        "colab": {
          "base_uri": "https://localhost:8080/"
        },
        "id": "clT5GshjBfZu",
        "outputId": "a8aa4d56-c9ff-40e6-f9f7-ef0d7d47f572"
      },
      "execution_count": 5,
      "outputs": [
        {
          "output_type": "stream",
          "name": "stdout",
          "text": [
            "First Citizen:\n",
            "Before we proceed any further, hear me speak.\n",
            "\n",
            "All:\n",
            "Speak, speak.\n",
            "\n",
            "First Citizen:\n",
            "You\n"
          ]
        }
      ]
    },
    {
      "cell_type": "code",
      "source": [
        "text[]"
      ],
      "metadata": {
        "colab": {
          "base_uri": "https://localhost:8080/",
          "height": 35
        },
        "id": "i90EES0iDUNH",
        "outputId": "bf422f00-8aef-4e49-e2b8-b2fd5a38a380"
      },
      "execution_count": 11,
      "outputs": [
        {
          "output_type": "execute_result",
          "data": {
            "text/plain": [
              "'r'"
            ],
            "application/vnd.google.colaboratory.intrinsic+json": {
              "type": "string"
            }
          },
          "metadata": {},
          "execution_count": 11
        }
      ]
    },
    {
      "cell_type": "code",
      "source": [
        "chars = sorted(list(set(text)))\n",
        "vocab_size = len(chars)\n",
        "print(f\"Length of set: {vocab_size}\")"
      ],
      "metadata": {
        "colab": {
          "base_uri": "https://localhost:8080/"
        },
        "id": "cUaGqqMDBsgb",
        "outputId": "7c14a86c-b68d-40d7-eb10-e065c4d243a4"
      },
      "execution_count": 10,
      "outputs": [
        {
          "output_type": "stream",
          "name": "stdout",
          "text": [
            "Length of set: 65\n"
          ]
        }
      ]
    },
    {
      "cell_type": "code",
      "source": [
        "chars[:10]"
      ],
      "metadata": {
        "colab": {
          "base_uri": "https://localhost:8080/"
        },
        "id": "4SbqfFaTCuch",
        "outputId": "dc1c9904-c335-4dcf-a4a2-6bd53cf23bb9"
      },
      "execution_count": 8,
      "outputs": [
        {
          "output_type": "execute_result",
          "data": {
            "text/plain": [
              "['\\n', ' ', '!', '$', '&', \"'\", ',', '-', '.', '3']"
            ]
          },
          "metadata": {},
          "execution_count": 8
        }
      ]
    },
    {
      "cell_type": "code",
      "source": [
        "stoi = {ch:i for i, ch in enumerate(chars)}\n",
        "itos = {i:ch for i, ch in enumerate(chars)}\n",
        "\n",
        "def encode(s):\n",
        "  return [stoi[c] for c in s]\n",
        "\n",
        "def decode(ids_ls):\n",
        "  return [itos[i] for i in ids_ls]"
      ],
      "metadata": {
        "id": "c2FVYSP2C3SW"
      },
      "execution_count": 13,
      "outputs": []
    },
    {
      "cell_type": "code",
      "source": [
        "sample_string = \"Hello I'm Tai\"\n",
        "\n",
        "encode_ls = encode(sample_string)\n",
        "\n",
        "print(f\"Encode values: {encode(sample_string)}\")\n",
        "print(f\"Decode values: {''.join(decode(encode_ls))}\")"
      ],
      "metadata": {
        "colab": {
          "base_uri": "https://localhost:8080/"
        },
        "id": "nWSetxAZFSev",
        "outputId": "1cfca084-801f-43fc-ad8a-0b9957d0d862"
      },
      "execution_count": 17,
      "outputs": [
        {
          "output_type": "stream",
          "name": "stdout",
          "text": [
            "Encode values: [20, 43, 50, 50, 53, 1, 21, 5, 51, 1, 32, 39, 47]\n",
            "Decode values: Hello I'm Tai\n"
          ]
        }
      ]
    },
    {
      "cell_type": "code",
      "source": [
        "import torch"
      ],
      "metadata": {
        "id": "gU0LcjcKF9B5"
      },
      "execution_count": 18,
      "outputs": []
    },
    {
      "cell_type": "code",
      "source": [
        "data = torch.tensor(encode(text), dtype=torch.int)"
      ],
      "metadata": {
        "id": "JwT1mqquHdL2"
      },
      "execution_count": 19,
      "outputs": []
    },
    {
      "cell_type": "code",
      "source": [
        "data.shape"
      ],
      "metadata": {
        "colab": {
          "base_uri": "https://localhost:8080/"
        },
        "id": "9LaBrZ7VHyUU",
        "outputId": "fdb72b66-0844-463b-b5fd-6dfc95e4d563"
      },
      "execution_count": 20,
      "outputs": [
        {
          "output_type": "execute_result",
          "data": {
            "text/plain": [
              "torch.Size([1115394])"
            ]
          },
          "metadata": {},
          "execution_count": 20
        }
      ]
    },
    {
      "cell_type": "markdown",
      "source": [
        "## Divide dataset into train and validation"
      ],
      "metadata": {
        "id": "V1wWLIafH9G9"
      }
    },
    {
      "cell_type": "code",
      "source": [
        "total_samples = len(text)\n",
        "t_n = int(0.9 * total_samples)\n",
        "train_data = data[:t_n]\n",
        "val_data = data[t_n:]"
      ],
      "metadata": {
        "id": "jUlACzWPH1Gt"
      },
      "execution_count": 25,
      "outputs": []
    },
    {
      "cell_type": "code",
      "source": [
        "# Generate training dataset\n",
        "block_size = 8\n",
        "train_data[:block_size]"
      ],
      "metadata": {
        "colab": {
          "base_uri": "https://localhost:8080/"
        },
        "id": "t2zMHc7DIQmk",
        "outputId": "d0ae6112-d222-4946-cf7f-fd7263bde0a6"
      },
      "execution_count": 27,
      "outputs": [
        {
          "output_type": "execute_result",
          "data": {
            "text/plain": [
              "tensor([18, 47, 56, 57, 58,  1, 15, 47], dtype=torch.int32)"
            ]
          },
          "metadata": {},
          "execution_count": 27
        }
      ]
    },
    {
      "cell_type": "code",
      "source": [
        "x = data[:block_size]\n",
        "y = data[1:block_size+1]\n",
        "print(f\"X: {x}\")\n",
        "print(f\"Y: {y}\")\n",
        "for t in range(block_size):\n",
        "  print(f\"Current context: {x[:t+1]}\")\n",
        "  print(f\"Label: {y[t]}\")\n"
      ],
      "metadata": {
        "colab": {
          "base_uri": "https://localhost:8080/"
        },
        "id": "lc3o1OJ0JJJ0",
        "outputId": "686bc678-a706-41dd-a8ae-ffd24d37e275"
      },
      "execution_count": 29,
      "outputs": [
        {
          "output_type": "stream",
          "name": "stdout",
          "text": [
            "X: tensor([18, 47, 56, 57, 58,  1, 15, 47], dtype=torch.int32)\n",
            "Y: tensor([47, 56, 57, 58,  1, 15, 47, 58], dtype=torch.int32)\n",
            "Current context: tensor([18], dtype=torch.int32)\n",
            "Label: 47\n",
            "Current context: tensor([18, 47], dtype=torch.int32)\n",
            "Label: 56\n",
            "Current context: tensor([18, 47, 56], dtype=torch.int32)\n",
            "Label: 57\n",
            "Current context: tensor([18, 47, 56, 57], dtype=torch.int32)\n",
            "Label: 58\n",
            "Current context: tensor([18, 47, 56, 57, 58], dtype=torch.int32)\n",
            "Label: 1\n",
            "Current context: tensor([18, 47, 56, 57, 58,  1], dtype=torch.int32)\n",
            "Label: 15\n",
            "Current context: tensor([18, 47, 56, 57, 58,  1, 15], dtype=torch.int32)\n",
            "Label: 47\n",
            "Current context: tensor([18, 47, 56, 57, 58,  1, 15, 47], dtype=torch.int32)\n",
            "Label: 58\n"
          ]
        }
      ]
    },
    {
      "cell_type": "code",
      "source": [
        "torch.manual_seed(1337)\n",
        "\n",
        "batch_size = 4\n",
        "block_size = 8\n",
        "\n",
        "torch.randint(10-2, (10,))"
      ],
      "metadata": {
        "colab": {
          "base_uri": "https://localhost:8080/"
        },
        "id": "Y_-kRMgzKKhG",
        "outputId": "1d4b4674-8c7c-43a9-8b43-8df2bfce7e87"
      },
      "execution_count": 31,
      "outputs": [
        {
          "output_type": "execute_result",
          "data": {
            "text/plain": [
              "tensor([7, 5, 4, 0, 7, 1, 7, 2, 2, 2])"
            ]
          },
          "metadata": {},
          "execution_count": 31
        }
      ]
    },
    {
      "cell_type": "code",
      "source": [],
      "metadata": {
        "id": "rMKQv5V-LN49"
      },
      "execution_count": null,
      "outputs": []
    }
  ]
}