{
  "nbformat": 4,
  "nbformat_minor": 0,
  "metadata": {
    "colab": {
      "provenance": []
    },
    "kernelspec": {
      "name": "python3",
      "display_name": "Python 3"
    },
    "language_info": {
      "name": "python"
    }
  },
  "cells": [
    {
      "cell_type": "code",
      "execution_count": 2,
      "metadata": {
        "id": "4gXSnKtVnpbs"
      },
      "outputs": [],
      "source": [
        "import torch\n",
        "import torch.nn as nn\n",
        "import torch.nn.functional as F\n",
        "import torch.optim as optim"
      ]
    },
    {
      "cell_type": "code",
      "source": [
        "device = torch.device('cuda' if torch.cuda.is_available() else 'cpu')\n",
        "print(f'Using device: {device}')"
      ],
      "metadata": {
        "colab": {
          "base_uri": "https://localhost:8080/"
        },
        "id": "NV9ZhaxnoJpG",
        "outputId": "1e880d5f-ee2c-4232-ccde-747d6080db70"
      },
      "execution_count": 3,
      "outputs": [
        {
          "output_type": "stream",
          "name": "stdout",
          "text": [
            "Using device: cpu\n"
          ]
        }
      ]
    },
    {
      "cell_type": "markdown",
      "source": [
        "## Transformer Architecture"
      ],
      "metadata": {
        "id": "v_3-dFEzodXs"
      }
    },
    {
      "cell_type": "code",
      "source": [
        "class MultiHeadAttention(nn.Module):\n",
        "\n",
        "  def __init__(self, d_model: int, n_heads: int, dropout: float = 0.1):\n",
        "    super().__init__()\n",
        "    assert d_model % n_heads == 0\n",
        "\n",
        "    self.d_model = d_model\n",
        "    self.n_heads = n_heads\n",
        "    self.d_k = d_model // n_heads\n",
        "\n",
        "    self.q_linear = nn.Linear(d_model, self.d_k * n_heads)\n",
        "    self.k_linear = nn.Linear(d_model, self.d_k * n_heads)\n",
        "    self.v_linear = nn.Linear(d_model, self.d_k * n_heads) # Because d_v = d_k\n",
        "    self.out = nn.Linear(d_model, self.d_k * n_heads)\n",
        "\n",
        "    self.dropout = nn.Dropout(dropout)\n",
        "\n",
        "  def forward(self, query, key, value, mask = None):\n",
        "\n",
        "    batch_size = query.size(0)\n",
        "\n",
        "    Q = self.q_linear(query).view(batch_size, -1, self.n_heads, self.d_k).transpose(1, 2) # batch_size, n_head, seq_len, d_k\n",
        "    K = self.k_linear(key).view(batch_size, -1, self.n_heads, self.d_k).transpose(1, 2) # batch_size, n_head, seq_len, d_k\n",
        "    V = self.v_linear(value).view(batch_size, -1, self.n_heads, self.d_k).transpose(1, 2) # batch_size, n_head, seq_len, d_k\n",
        "\n",
        "    scores = torch.matmul(Q, K.transpose(-2, -1)) / math.sqrt(self.d_k) # batch_size, n_head, seq_len, seq_len\n",
        "\n",
        "    if mask is not None:\n",
        "      scores = scores.masked_fill(mask == 0, -1e9)\n",
        "\n",
        "    attention_weights = F.softmax(scores, dim = -1) # batch_size, n_head, seq_len, seq_len\n",
        "    attention_weights = self.dropout(attention_weights)\n",
        "\n",
        "    # Concatenate heads and put through final linear layer\n",
        "    context = torch.matmul(attention_weights, V) # batch_size, n_head, seq_len, d_k\n",
        "\n",
        "    context = context.transpose(1, 2).contiguous().view(\n",
        "        batch_size, -1, self.d_model\n",
        "    )\n",
        "\n",
        "    output = self.out(context)\n",
        "\n",
        "    return output, attention_weights\n",
        "\n"
      ],
      "metadata": {
        "id": "0c2yWwujoa2b"
      },
      "execution_count": 5,
      "outputs": []
    },
    {
      "cell_type": "code",
      "source": [],
      "metadata": {
        "id": "2BGgwnxLEJAy"
      },
      "execution_count": null,
      "outputs": []
    }
  ]
}