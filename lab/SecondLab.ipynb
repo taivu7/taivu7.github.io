{
  "nbformat": 4,
  "nbformat_minor": 0,
  "metadata": {
    "colab": {
      "provenance": []
    },
    "kernelspec": {
      "name": "python3",
      "display_name": "Python 3"
    },
    "language_info": {
      "name": "python"
    }
  },
  "cells": [
    {
      "cell_type": "code",
      "execution_count": 11,
      "metadata": {
        "id": "4gXSnKtVnpbs"
      },
      "outputs": [],
      "source": [
        "import torch\n",
        "import torch.nn as nn\n",
        "import torch.nn.functional as F\n",
        "import torch.optim as optim\n",
        "import math\n",
        "from torch.utils.data import Dataset, DataLoader"
      ]
    },
    {
      "cell_type": "code",
      "source": [
        "device = torch.device('cuda' if torch.cuda.is_available() else 'cpu')\n",
        "print(f'Using device: {device}')"
      ],
      "metadata": {
        "colab": {
          "base_uri": "https://localhost:8080/"
        },
        "id": "NV9ZhaxnoJpG",
        "outputId": "fe5d2c28-eebb-44e6-b8ce-93536fd90d15"
      },
      "execution_count": 12,
      "outputs": [
        {
          "output_type": "stream",
          "name": "stdout",
          "text": [
            "Using device: cpu\n"
          ]
        }
      ]
    },
    {
      "cell_type": "markdown",
      "source": [
        "## Transformer Architecture"
      ],
      "metadata": {
        "id": "v_3-dFEzodXs"
      }
    },
    {
      "cell_type": "code",
      "source": [
        "class MultiHeadAttention(nn.Module):\n",
        "\n",
        "  def __init__(self, d_model: int, n_heads: int, dropout: float = 0.1):\n",
        "    super().__init__()\n",
        "    assert d_model % n_heads == 0\n",
        "\n",
        "    self.d_model = d_model\n",
        "    self.n_heads = n_heads\n",
        "    self.d_k = d_model // n_heads\n",
        "\n",
        "    self.q_linear = nn.Linear(d_model, self.d_k * n_heads)\n",
        "    self.k_linear = nn.Linear(d_model, self.d_k * n_heads)\n",
        "    self.v_linear = nn.Linear(d_model, self.d_k * n_heads) # Because d_v = d_k\n",
        "    self.out = nn.Linear(d_model, self.d_k * n_heads)\n",
        "\n",
        "    self.dropout = nn.Dropout(dropout)\n",
        "\n",
        "  def forward(self, query, key, value, mask = None):\n",
        "\n",
        "    batch_size = query.size(0)\n",
        "\n",
        "    Q = self.q_linear(query).view(batch_size, -1, self.n_heads, self.d_k).transpose(1, 2) # batch_size, n_head, seq_len, d_k\n",
        "    K = self.k_linear(key).view(batch_size, -1, self.n_heads, self.d_k).transpose(1, 2) # batch_size, n_head, seq_len, d_k\n",
        "    V = self.v_linear(value).view(batch_size, -1, self.n_heads, self.d_k).transpose(1, 2) # batch_size, n_head, seq_len, d_k\n",
        "\n",
        "    scores = torch.matmul(Q, K.transpose(-2, -1)) / math.sqrt(self.d_k) # batch_size, n_head, seq_len, seq_len\n",
        "\n",
        "    if mask is not None:\n",
        "      scores = scores.masked_fill(mask == 0, -1e9)\n",
        "\n",
        "    attention_weights = F.softmax(scores, dim = -1) # batch_size, n_head, seq_len, seq_len\n",
        "    attention_weights = self.dropout(attention_weights)\n",
        "\n",
        "    # Concatenate heads and put through final linear layer\n",
        "    context = torch.matmul(attention_weights, V) # batch_size, n_head, seq_len, d_k\n",
        "\n",
        "    context = context.transpose(1, 2).contiguous().view(\n",
        "        batch_size, -1, self.d_model\n",
        "    )\n",
        "\n",
        "    output = self.out(context) # batch_size, seq_len, d_model\n",
        "\n",
        "    return output, attention_weights\n",
        "\n"
      ],
      "metadata": {
        "id": "0c2yWwujoa2b"
      },
      "execution_count": 13,
      "outputs": []
    },
    {
      "cell_type": "code",
      "source": [
        "class PositionalEncoding(nn.Module):\n",
        "\n",
        "  def __init__(self, d_model: int, max_len: int):\n",
        "    super().__init__()\n",
        "\n",
        "    pe = torch.zeros(max_len, d_model)\n",
        "\n",
        "    position = torch.arange(0, max_len, dtype=torch.float).unsqueeze(1)\n",
        "\n",
        "    div_term = torch.exp(torch.arange(0, d_model, 2).float() *\n",
        "                         (-math.log(10000.0)/d_model))\n",
        "\n",
        "    pe[:,0::2] = torch.sin(position * div_term)\n",
        "    pe[:,1::2] = torch.cos(position * div_term)\n",
        "\n",
        "    pe = pe.unsqueeze(0).transpose(0, 1)\n",
        "\n",
        "    self.register_buffer('pe', pe)\n",
        "\n",
        "  def forward(self, x):\n",
        "    return x + self.pe[:x.size(0), :]"
      ],
      "metadata": {
        "id": "2BGgwnxLEJAy"
      },
      "execution_count": 14,
      "outputs": []
    },
    {
      "cell_type": "code",
      "source": [
        "class FeedForward(nn.Module):\n",
        "\n",
        "  def __init__(self, d_model: int, d_ff: int, dropout: float = 0.1):\n",
        "    super().__init__()\n",
        "\n",
        "    self.linear1 = nn.Linear(d_model, d_ff)\n",
        "    self.linear2 = nn.Linear(d_ff, d_model)\n",
        "    self.dropout = nn.Dropout(dropout)\n",
        "\n",
        "  def forward(self, x):\n",
        "    return self.linear2(self.dropout(F.relu(self.linear1(x))))"
      ],
      "metadata": {
        "id": "_905noIP8Elp"
      },
      "execution_count": 15,
      "outputs": []
    },
    {
      "cell_type": "code",
      "source": [
        "class TransformerBlock(nn.Module):\n",
        "\n",
        "  def __init__(self, d_model: int, n_heads: int, d_ff: int, dropout: float = 0.1):\n",
        "    super().__init__()\n",
        "\n",
        "    self.attention = MultiHeadAttention(d_model, n_heads, dropout)\n",
        "    self.feed_forward = FeedForward(d_model, d_ff, dropout)\n",
        "    self.norm1 = nn.LayerNorm(d_model)\n",
        "    self.norm2 = nn.LayerNorm(d_model)\n",
        "    self.dropout = nn.Dropout(dropout)\n",
        "\n",
        "  def forward(self, x, mask = None):\n",
        "\n",
        "    attn_output, attention_weights = self.attention(x, x, x, mask)\n",
        "    x = self.norm1(x + self.dropout(attn_output))\n",
        "\n",
        "    ff_output = self.feed_forward(x)\n",
        "\n",
        "    x = self.norm2(x + self.dropout(ff_output))\n",
        "\n",
        "    return x, attention_weights"
      ],
      "metadata": {
        "id": "KYpKV1s0henX"
      },
      "execution_count": 16,
      "outputs": []
    },
    {
      "cell_type": "code",
      "source": [
        "class TinyTransformer(nn.Module):\n",
        "\n",
        "  def __init__(self, vocab_size: int, d_model: int, n_heads: int,\n",
        "               n_layers: int, d_ff: int, max_len: int, dropout: float = 0.1):\n",
        "\n",
        "    super().__init__()\n",
        "\n",
        "    self.d_model = d_model\n",
        "    self.embedding = nn.Embedding(vocab_size, d_model)\n",
        "    self.pos_encoding = PositionalEncoding(d_model, max_len)\n",
        "\n",
        "    self.transformer_blocks = nn.ModuleList([\n",
        "        TransformerBlock(d_model, n_heads, d_ff, dropout)\n",
        "        for _ in range(n_layers)\n",
        "    ])\n",
        "\n",
        "    self.ln_f = nn.LayerNorm(d_model)\n",
        "    self.head = nn.Linear(d_model, vocab_size)\n",
        "    self.dropout = nn.Dropout(dropout)\n",
        "\n",
        "    self.apply(self._init_weights)\n",
        "\n",
        "  def _init_weights(self, module):\n",
        "\n",
        "    if isinstance(module, nn.Linear):\n",
        "      torch.nn.init.normal_(module.weight, mean=0.0, std=0.02)\n",
        "      if module.bias is not None:\n",
        "        torch.nn.init.zeros_(module.bias)\n",
        "\n",
        "    elif isinstance(module, nn.Embedding):\n",
        "      torch.nn.init.normal_(module.weight, mean=0.0, std=0.02)\n",
        "\n",
        "    elif isinstance(module, nn.LayerNorm):\n",
        "      torch.nn.init.zeros_(module.bias)\n",
        "      torch.nn.init.ones_(module.weight)\n",
        "\n",
        "  def create_causal_mask(self, size):\n",
        "    mask = torch.tril(torch.ones(size, size)).unsqueeze(0).unsqueeze(0)\n",
        "    return mask\n",
        "\n",
        "  def forward(self, x, targets=None):\n",
        "\n",
        "    batch_size, seq_len = x.size()\n",
        "\n",
        "    mask = self.create_causal_mask(seq_len).to(x.device)\n",
        "\n",
        "    # Token embedding + positional encoding\n",
        "    x = self.embedding(x) * math.sqrt(self.d_model)\n",
        "    x = self.pos_encoding(x)\n",
        "    x = self.dropout(x)\n",
        "\n",
        "    # Pass through transformer blocks\n",
        "    attention_weights = []\n",
        "    for block in self.transformer_blocks:\n",
        "      x, atten = block(x, mask)\n",
        "      attention_weights.append(atten)\n",
        "\n",
        "    x = self.ln_f(x)\n",
        "    logits = self.head(x)\n",
        "\n",
        "    loss = None\n",
        "    if targets is not None:\n",
        "      loss = F.cross_entropy(logits.view(-1, logits.size(-1)), targets.view(-1))\n",
        "\n",
        "    return logits, loss, attention_weights"
      ],
      "metadata": {
        "id": "jGw9HFrU0f-s"
      },
      "execution_count": 17,
      "outputs": []
    },
    {
      "cell_type": "code",
      "source": [
        "class SimpleTextDataset(Dataset):\n",
        "\n",
        "  def __init__(self, text: str, seq_len: int):\n",
        "\n",
        "    self.chars = sorted(list(set(text)))\n",
        "    self.char_to_idx = {ch: i for i, ch in enumerate(self.chars)}\n",
        "    self.idx_to_char = {i:ch for i, ch in enumerate(self.chars)}\n",
        "\n",
        "    self.data = [self.char_to_idx[ch] for ch in text]\n",
        "    self.seq_len = seq_len\n",
        "\n",
        "  def __len__(self):\n",
        "    return len(self.data) - self.seq_len\n",
        "\n",
        "  def __getitem__(self, idx):\n",
        "    x = torch.tensor(self.data[idx:idx + self.seq_len], dtype=torch.long)\n",
        "    y = torch.tensor(self.data[idx+1:idx+self.seq_len+1], dtype = torch.long)\n",
        "    return x, y\n",
        "\n",
        "  @property\n",
        "  def vocab_size(self):\n",
        "    return len(self.chars)"
      ],
      "metadata": {
        "id": "SkHNSuoY3AXF"
      },
      "execution_count": 18,
      "outputs": []
    },
    {
      "cell_type": "code",
      "source": [],
      "metadata": {
        "id": "8RAlEZ9nAJ5p"
      },
      "execution_count": null,
      "outputs": []
    }
  ]
}